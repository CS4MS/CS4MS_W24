{
 "cells": [
  {
   "cell_type": "markdown",
   "metadata": {
    "id": "Q__hwVrDS4LI"
   },
   "source": [
    "# Introduction\n",
    "\n",
    "This tutorial will teach you how to access real life data and understand it visually, with a small machine learning example at the end.\n",
    "\n",
    "For this article, we employ one of the data sets available in muenchen.de, containing information about Oktoberfest since 1985 until 2022. Although most of the years are not available (Oktoberfest started in 1810!), the data set provides valuable insights about how the festival evolved over the last 30 years.\n",
    "\n",
    "The original data has been taken from here: https://www.opengov-muenchen.de/dataset/oktoberfest (no need to go there now)\n",
    "\n",
    "\n",
    "So, let's jump into it!"
   ]
  },
  {
   "cell_type": "markdown",
   "metadata": {
    "id": "CSD3eMK0WtSq"
   },
   "source": [
    "# Libraries to Use\n",
    "\n",
    "To evaluate the dataset, we use three different Python libraries: Pandas, Matplotlib, and Plotly.\n",
    "\n",
    "- [Pandas](https://pandas.pydata.org/index.html) is a Python open source library for data science that allows us to easily work with structured data, such as **csv files, SQL tables, or Excel spreadsheets**. It provides tools for reading and writing data in different formats, carrying out exploratory analysis, and cleaning data (reshaping data sets, handling missing data, or merging data sets).\n",
    "\n",
    "- [Matplotlib](https://matplotlib.org/) is a Python 2D plotting library that can be used in Python scripts, Jupyter notebooks, and IPython shells, among other environments, producing high quality figures. Matplotlib offers a wide range of visualizations such as histograms, bar chart, scatter plots, box plots, or pie charts.\n",
    "\n",
    "- [Scikit-learn (sklearn)](https://scikit-learn.org) is a Python open source library that provides a wide range of supervised and unsupervised learning algorithms. It is designed for ease of use and efficiency, offering tools for data preprocessing, model selection, evaluation, and many other utilities.\n",
    "\n",
    "After this overview of the libraries used in this analysis, we are ready to load the dataset."
   ]
  },
  {
   "cell_type": "markdown",
   "metadata": {
    "id": "8acFoA5Rh0Cb"
   },
   "source": [
    "### Working with directories\n",
    "This module provides a portable way of using operating system dependent functionality, such as retrieving information about paths and files\n",
    "\n"
   ]
  },
  {
   "cell_type": "code",
   "execution_count": null,
   "metadata": {},
   "outputs": [],
   "source": [
    "### to download the .csv file\n",
    "!pip install wget\n",
    "\n",
    "import wget\n",
    "\n",
    "wget.download('https://opendata.muenchen.de/dataset/8d6c8251-7956-4f92-8c96-f79106aab828/resource/e0f664cf-6dd9-4743-bd2b-81a8b18bd1d2/download/oktoberfestgesamt19852023.csv')"
   ]
  },
  {
   "cell_type": "code",
   "execution_count": null,
   "metadata": {
    "id": "w220S5MybNDG"
   },
   "outputs": [],
   "source": [
    "import os\n",
    "\n",
    "# to see where we are currently working in \n",
    "print(os.getcwd())"
   ]
  },
  {
   "cell_type": "code",
   "execution_count": null,
   "metadata": {
    "id": "Mo4xAVUo6hT-"
   },
   "outputs": [],
   "source": [
    "# print all the files and directories in ocurrent directory\n",
    "print('\\nFiles in our oktoberfest path:')\n",
    "all_files = os.listdir(os.getcwd())\n",
    "for file in all_files:\n",
    "  print(file)"
   ]
  },
  {
   "cell_type": "markdown",
   "metadata": {
    "id": "R6r5sXMB87yy"
   },
   "source": [
    "Great... .csv files found. \n",
    "\n",
    "CSV stands for comma-separated values. This is a text-based file format that stores tabular data with each line being a row and columns being separated by commas. Just like a minimalistic Excel file without formating and only values. ([More info on wikipedia](https://en.wikipedia.org/wiki/Comma-separated_values))\n",
    "\n",
    "Let's take the 2023 version and save the path to a variable:"
   ]
  },
  {
   "cell_type": "code",
   "execution_count": null,
   "metadata": {
    "id": "2xxLWUN5-A8f"
   },
   "outputs": [],
   "source": [
    "# create another pathlib object with the path to the csv file\n",
    "oktoberfest_csv_path = os.path.join(os.getcwd(),'oktoberfestgesamt19852023.csv')\n",
    "\n",
    "# make sure this is a file\n",
    "if os.path.isfile(oktoberfest_csv_path):\n",
    "    print('It is a file')\n",
    "else:\n",
    "    print('It is not a file')"
   ]
  },
  {
   "cell_type": "markdown",
   "metadata": {
    "id": "AtEimWqvY4tx"
   },
   "source": [
    "For convenience we load the CSV data into a Pandas data frame using the [pandas.read_csv](https://pandas.pydata.org/pandas-docs/stable/reference/api/pandas.read_csv.html) function and visualize the first 5 rows using the [pandas.DataFrame.head](https://pandas.pydata.org/pandas-docs/stable/reference/api/pandas.DataFrame.head.html) method."
   ]
  },
  {
   "cell_type": "code",
   "execution_count": 5,
   "metadata": {
    "id": "GTp2mHx0YzmU"
   },
   "outputs": [
    {
     "data": {
      "text/html": [
       "<div>\n",
       "<style scoped>\n",
       "    .dataframe tbody tr th:only-of-type {\n",
       "        vertical-align: middle;\n",
       "    }\n",
       "\n",
       "    .dataframe tbody tr th {\n",
       "        vertical-align: top;\n",
       "    }\n",
       "\n",
       "    .dataframe thead th {\n",
       "        text-align: right;\n",
       "    }\n",
       "</style>\n",
       "<table border=\"1\" class=\"dataframe\">\n",
       "  <thead>\n",
       "    <tr style=\"text-align: right;\">\n",
       "      <th></th>\n",
       "      <th>jahr</th>\n",
       "      <th>dauer</th>\n",
       "      <th>besucher_gesamt</th>\n",
       "      <th>besucher_tag</th>\n",
       "      <th>bier_preis</th>\n",
       "      <th>bier_konsum</th>\n",
       "      <th>hendl_preis</th>\n",
       "      <th>hendl_konsum</th>\n",
       "    </tr>\n",
       "  </thead>\n",
       "  <tbody>\n",
       "    <tr>\n",
       "      <th>0</th>\n",
       "      <td>1985</td>\n",
       "      <td>16</td>\n",
       "      <td>7.1</td>\n",
       "      <td>444</td>\n",
       "      <td>3.20</td>\n",
       "      <td>54541</td>\n",
       "      <td>4.77</td>\n",
       "      <td>629520</td>\n",
       "    </tr>\n",
       "    <tr>\n",
       "      <th>1</th>\n",
       "      <td>1986</td>\n",
       "      <td>16</td>\n",
       "      <td>6.7</td>\n",
       "      <td>419</td>\n",
       "      <td>3.30</td>\n",
       "      <td>53807</td>\n",
       "      <td>3.92</td>\n",
       "      <td>698137</td>\n",
       "    </tr>\n",
       "    <tr>\n",
       "      <th>2</th>\n",
       "      <td>1987</td>\n",
       "      <td>16</td>\n",
       "      <td>6.5</td>\n",
       "      <td>406</td>\n",
       "      <td>3.37</td>\n",
       "      <td>51842</td>\n",
       "      <td>3.98</td>\n",
       "      <td>732859</td>\n",
       "    </tr>\n",
       "    <tr>\n",
       "      <th>3</th>\n",
       "      <td>1988</td>\n",
       "      <td>16</td>\n",
       "      <td>5.7</td>\n",
       "      <td>356</td>\n",
       "      <td>3.45</td>\n",
       "      <td>50951</td>\n",
       "      <td>4.19</td>\n",
       "      <td>720139</td>\n",
       "    </tr>\n",
       "    <tr>\n",
       "      <th>4</th>\n",
       "      <td>1989</td>\n",
       "      <td>16</td>\n",
       "      <td>6.2</td>\n",
       "      <td>388</td>\n",
       "      <td>3.60</td>\n",
       "      <td>51241</td>\n",
       "      <td>4.22</td>\n",
       "      <td>775674</td>\n",
       "    </tr>\n",
       "  </tbody>\n",
       "</table>\n",
       "</div>"
      ],
      "text/plain": [
       "   jahr  dauer  besucher_gesamt  besucher_tag  bier_preis  bier_konsum  \\\n",
       "0  1985     16              7.1           444        3.20        54541   \n",
       "1  1986     16              6.7           419        3.30        53807   \n",
       "2  1987     16              6.5           406        3.37        51842   \n",
       "3  1988     16              5.7           356        3.45        50951   \n",
       "4  1989     16              6.2           388        3.60        51241   \n",
       "\n",
       "   hendl_preis  hendl_konsum  \n",
       "0         4.77        629520  \n",
       "1         3.92        698137  \n",
       "2         3.98        732859  \n",
       "3         4.19        720139  \n",
       "4         4.22        775674  "
      ]
     },
     "execution_count": 5,
     "metadata": {},
     "output_type": "execute_result"
    }
   ],
   "source": [
    "import pandas as pd\n",
    "import matplotlib.pyplot as plt\n",
    "# make plots look prettier\n",
    "plt.style.use('ggplot')\n",
    "\n",
    "# Load data into a pandas dataframe\n",
    "df_oktoberfest = pd.read_csv(oktoberfest_csv_path)\n",
    "\n",
    "# Print first 5 rows of the dataframe\n",
    "df_oktoberfest.head(5)"
   ]
  },
  {
   "cell_type": "markdown",
   "metadata": {
    "id": "4KRjkk3dZS5h"
   },
   "source": [
    "The data set contains 8 columns: (1) year, (2) duration, (3) total visitors in million, (4) visitors per day in thousands, (5) price of beer, (6) consumption of beer in hektoliters, (7) price of chicken, (8) consumption of chicken.\n",
    "\n",
    "We can also get the last 5 rows using the [pandas.DataFrame.tail](https://pandas.pydata.org/pandas-docs/stable/reference/api/pandas.DataFrame.tail.html) method."
   ]
  },
  {
   "cell_type": "code",
   "execution_count": null,
   "metadata": {
    "id": "GuOgX-VZ3Yqs"
   },
   "outputs": [],
   "source": [
    "# print the last 5 rows of the dataframe\n",
    "df_oktoberfest.tail(5)"
   ]
  },
  {
   "cell_type": "markdown",
   "metadata": {
    "id": "YvtP4d2U3Yqv"
   },
   "source": [
    "Let's get a feeling for the data and print some statistics with the [pandas.DataFrame.describe](https://pandas.pydata.org/pandas-docs/stable/reference/api/pandas.DataFrame.describe.html) method.\n",
    "\n",
    "Of course you could also calculate single statistics like .mean(), .std() etc.."
   ]
  },
  {
   "cell_type": "code",
   "execution_count": null,
   "metadata": {
    "id": "SVW70Jks3Yqw"
   },
   "outputs": [],
   "source": [
    "# generate and print descriptive statistics of the dataframe\n",
    "df_oktoberfest.describe()"
   ]
  },
  {
   "cell_type": "markdown",
   "metadata": {
    "id": "cx-OjGK_3Yq0"
   },
   "source": [
    "In python, a dataframe is very similar to a dictionary. To get single columns you can use the column names."
   ]
  },
  {
   "cell_type": "code",
   "execution_count": null,
   "metadata": {
    "id": "lXoEV8cF3Yq1"
   },
   "outputs": [],
   "source": [
    "# let's print the column names first\n",
    "print(df_oktoberfest.columns)"
   ]
  },
  {
   "cell_type": "code",
   "execution_count": null,
   "metadata": {
    "id": "m7moI3qP3Yq5"
   },
   "outputs": [],
   "source": [
    "# get the column for the beer price via the dictionary syntax:\n",
    "df_oktoberfest['bier_preis']"
   ]
  },
  {
   "cell_type": "code",
   "execution_count": null,
   "metadata": {
    "id": "gvB0slR23Yq9"
   },
   "outputs": [],
   "source": [
    "# You can also use a namespace to access the same column instead of the dictionary syntax:\n",
    "df_oktoberfest.bier_preis"
   ]
  },
  {
   "cell_type": "code",
   "execution_count": null,
   "metadata": {
    "id": "QSJGShtm3YrA"
   },
   "outputs": [],
   "source": [
    "# Let's calculate the lowest price for one liter of beer recorded .. :-/\n",
    "df_oktoberfest.bier_preis.min()"
   ]
  },
  {
   "cell_type": "markdown",
   "metadata": {
    "id": "xLwbXN1xnVKe"
   },
   "source": [
    "So how do we access a specific row?\n",
    "\n",
    "Let's try the [pandas.DataFrame.iloc](https://pandas.pydata.org/pandas-docs/stable/reference/api/pandas.DataFrame.iloc.html) function to view specific years. This function takes the index of each row as the argument, and outputs the corresponding row."
   ]
  },
  {
   "cell_type": "code",
   "execution_count": null,
   "metadata": {
    "id": "OxjUJ-4mqppV"
   },
   "outputs": [],
   "source": [
    "\n",
    "print(df_oktoberfest.iloc[[0]])"
   ]
  },
  {
   "cell_type": "markdown",
   "metadata": {
    "id": "eUVvEsd4q1_M"
   },
   "source": [
    "You can get multiple rows like this.\n"
   ]
  },
  {
   "cell_type": "code",
   "execution_count": null,
   "metadata": {
    "id": "mgS-YOloq7Xo"
   },
   "outputs": [],
   "source": [
    "df_oktoberfest.iloc[[0,1,2]]"
   ]
  },
  {
   "cell_type": "markdown",
   "metadata": {
    "id": "SaVpsCoUrABs"
   },
   "source": [
    "Now, let's try to do some data anlaysis. One of the biggest change in German economy was the conversion from Deutsche Mark to Euro. This was roughly around 1999 to 2000. Let's check the data from that years."
   ]
  },
  {
   "cell_type": "code",
   "execution_count": null,
   "metadata": {
    "id": "UKBXlRlXnDLA"
   },
   "outputs": [],
   "source": [
    "df_oktoberfest.iloc[[12,13,14,15,16,17],:]"
   ]
  },
  {
   "cell_type": "markdown",
   "metadata": {
    "id": "7SbycDNZn0id"
   },
   "source": [
    "From 1999 to 2000 there is a sudden increase in the beer and chicken price. This can be attributed to the conversion of Deutsche Mark to Euro as the official currency of Germany."
   ]
  },
  {
   "cell_type": "markdown",
   "metadata": {
    "id": "8jGuWNCws9xt"
   },
   "source": [
    "Now lets do a simple calculation adding 2 columns to calculate how much money was needed to buy a beer and a chicken in 1985 compared to 2023"
   ]
  },
  {
   "cell_type": "code",
   "execution_count": null,
   "metadata": {
    "id": "5QStICAAaD9u"
   },
   "outputs": [],
   "source": [
    "# Example of using loc to select a single row\n",
    "# df_oktoberfest.loc[index, column name]\n",
    "\n",
    "# Price of a beer and a chicken in 1985\n",
    "price_1985 = df_oktoberfest.loc[0,'bier_preis'] + df_oktoberfest.loc[0,'hendl_preis']\n",
    "\n",
    "# Price of a beer and a chicken in 2023\n",
    "price_2023 = df_oktoberfest.loc[36,'bier_preis'] + df_oktoberfest.loc[36,'hendl_preis']\n",
    "\n",
    "print(f'Price of a beer and a chicken in 1985: {price_1985:.2f} EUR')\n",
    "print(f'Price of a beer and a chicken in 2023: {price_2023:.2f} EUR')\n",
    "price_ratio = price_2023/price_1985\n",
    "print(f'Price of a beer and a chicken in 2023 is {price_ratio:.2f} times higher than in 1985!')"
   ]
  },
  {
   "cell_type": "markdown",
   "metadata": {
    "id": "Qoj1o8YVrn7e"
   },
   "source": [
    "# Analysing the Data\n",
    "\n",
    "Exploratory data analysis allow us to get a feeling about the data set and to get the data set ready to easily draw conclusions using it.\n",
    "Let's try to answer some common questions.\n",
    "\n",
    "### How did beer price change over the last 34 years? Is there a tendency?\n",
    "\n",
    "Pandas provides a very convenient method for plotting our data frame: [pandas.DataFrame.plot](https://pandas.pydata.org/pandas-docs/stable/reference/api/pandas.DataFrame.plot.html)"
   ]
  },
  {
   "cell_type": "code",
   "execution_count": null,
   "metadata": {
    "id": "8CwcKogYzfjq"
   },
   "outputs": [],
   "source": [
    "df_oktoberfest.plot()"
   ]
  },
  {
   "cell_type": "markdown",
   "metadata": {
    "id": "zrX7AKohzfjq"
   },
   "source": [
    "This includes all the columns and is not really useful.\n",
    "\n",
    "Let's specify more argument regarding the columns to include (y) and some formatting ([for more details check the pandas help](https://pandas.pydata.org/pandas-docs/stable/user_guide/visualization.html)):"
   ]
  },
  {
   "cell_type": "code",
   "execution_count": null,
   "metadata": {
    "id": "zTxKuQ4nsd2_"
   },
   "outputs": [],
   "source": [
    "# set the size of the plot\n",
    "plt.figure(figsize=(15,8))\n",
    "# plot the data (this will plot one line of data)\n",
    "plt.plot(df_oktoberfest.jahr, df_oktoberfest.bier_preis, label=\"Beer Price\", linewidth=3, color='blue') \n",
    "\n",
    "# set the title and axis labels\n",
    "plt.title('History of prices from 1985 until 2023',fontsize=20)\n",
    "plt.xlabel('Year',fontsize=16)\n",
    "plt.ylabel('Price (Euro)',fontsize=16)\n",
    "# Show the legend\n",
    "plt.legend(fontsize=16)\n"
   ]
  },
  {
   "cell_type": "markdown",
   "metadata": {
    "id": "66HRwWiQtg9w"
   },
   "source": [
    "As we can see from the plot, the price of beer have increased steadily from 1985 until 2022,\n",
    "Matter of fact, the price in 2022 is around four times more than in 1985."
   ]
  },
  {
   "cell_type": "markdown",
   "metadata": {
    "id": "wETVrPWrt4h_"
   },
   "source": [
    "# Problem 1\n",
    "\n",
    "### How did chicken price change over the last 37 years? Make the same plot as the previous block, but with chicken price."
   ]
  },
  {
   "cell_type": "code",
   "execution_count": null,
   "metadata": {
    "id": "Lb9R7SpjRUUW"
   },
   "outputs": [],
   "source": [
    "\n",
    "### ENTER YOUR CODE ###"
   ]
  },
  {
   "cell_type": "markdown",
   "metadata": {},
   "source": [
    "# Machine Leraning Example: Forecasting\n",
    "Now we will use the historical data and predict the price on the following years using linear regression"
   ]
  },
  {
   "cell_type": "code",
   "execution_count": null,
   "metadata": {},
   "outputs": [],
   "source": [
    "import numpy as np\n",
    "from sklearn.linear_model import LinearRegression\n",
    "\n",
    "\n",
    "# Choose the feature and target\n",
    "X = df_oktoberfest[['jahr']]\n",
    "y = df_oktoberfest['bier_preis']\n",
    "\n",
    "# Create a linear regression object\n",
    "model = LinearRegression()\n",
    "\n",
    "# Fit the model\n",
    "model.fit(X, y)"
   ]
  },
  {
   "cell_type": "code",
   "execution_count": null,
   "metadata": {},
   "outputs": [],
   "source": [
    "\n",
    "# Predict the price for the following years\n",
    "years = np.array([2019, 2020, 2021, 2022, 2023, 2024, 2025]).reshape(-1, 1)\n",
    "predicted_prices = model.predict(years)\n",
    "\n",
    "# Plot the results\n",
    "plt.figure(figsize=(15,8))\n",
    "plt.plot(df_oktoberfest.jahr, df_oktoberfest.bier_preis, label=\"Beer Price\", linewidth=3, color='blue')\n",
    "plt.plot(years, predicted_prices, label=\"Predicted Beer Price\", linestyle='--', color='red', linewidth=3)\n",
    "plt.title('Predicted beer price for the following years',fontsize=20)\n",
    "plt.xlabel('Year',fontsize=16)\n",
    "plt.ylabel('Price (Euro)',fontsize=16)\n",
    "plt.legend(fontsize=16)"
   ]
  },
  {
   "cell_type": "markdown",
   "metadata": {},
   "source": [
    "In our first exercise, we used a simple linear regression model to forecast beer prices using only the year as an input. While this model helped us identify a basic trend over time, our forecasts were notably lower than expected. This underestimation indicates that other significant factors might be influencing beer prices.\n",
    "\n",
    "As we know, the COVID-19 pandemic has had economic impacts across various sectors, including oktoberfest. To account for this, we’ll enhance our model by adding a new variable: a binary indicator that denotes whether a given year is before or after the onset of COVID-19. This adjustment will help the model more informed predictions."
   ]
  },
  {
   "cell_type": "code",
   "execution_count": null,
   "metadata": {},
   "outputs": [],
   "source": [
    "# Add a new column to know if it was before or after covid\n",
    "new_column = []\n",
    "for year in df_oktoberfest['jahr']:\n",
    "    if year <= 2020:\n",
    "        new_column.append(0)\n",
    "    else:\n",
    "        new_column.append(1)\n",
    "df_oktoberfest['after_covid'] = new_column\n",
    "\n",
    "df_oktoberfest"
   ]
  },
  {
   "cell_type": "code",
   "execution_count": null,
   "metadata": {},
   "outputs": [],
   "source": [
    "\n",
    "# Choose the feature and target\n",
    "X = df_oktoberfest[['jahr', 'after_covid']]\n",
    "y = df_oktoberfest['bier_preis']\n",
    "\n",
    "# Create a linear regression object\n",
    "model = LinearRegression()\n",
    "\n",
    "# Fit the model\n",
    "model.fit(X, y)\n",
    "\n",
    "# Predict the price for the following years\n",
    "years = np.array([2019, 2020, 2021, 2022, 2023, 2024, 2025])\n",
    "after_covid = np.array([0, 0, 1, 1, 1, 1, 1])\n",
    "input_data = np.column_stack((years, after_covid))\n",
    "predicted_prices = model.predict(input_data)\n",
    "\n",
    "# Plot the results\n",
    "plt.figure(figsize=(15,8))\n",
    "plt.plot(df_oktoberfest.jahr, df_oktoberfest.bier_preis, label=\"Beer Price\", linewidth=3, color='blue')\n",
    "plt.plot(years, predicted_prices, label=\"Predicted Beer Price\", linestyle='--', color='red', linewidth=3)\n",
    "plt.title('Predicted beer price for the following years',fontsize=20)\n",
    "plt.xlabel('Year',fontsize=16)\n",
    "plt.ylabel('Price (Euro)',fontsize=16)\n",
    "plt.legend(fontsize=16)"
   ]
  },
  {
   "cell_type": "markdown",
   "metadata": {},
   "source": [
    "# Problem 2\n",
    "\n",
    "### How will chicken price be in the next years?"
   ]
  },
  {
   "cell_type": "code",
   "execution_count": null,
   "metadata": {},
   "outputs": [],
   "source": [
    "### ENTER YOUR CODE ###"
   ]
  },
  {
   "cell_type": "markdown",
   "metadata": {
    "id": "G8MkDA8H1tVr"
   },
   "source": [
    "# References\n",
    "- https://towardsdatascience.com/oktoberfest-quick-analysis-using-pandas-matplotlib-and-plotly-79778367a4c\n",
    "- https://www.opengov-muenchen.de/dataset/oktoberfest\n",
    "- https://pandas.pydata.org/index.html\n",
    "- https://matplotlib.org/\n",
    "- https://plot.ly/python/"
   ]
  }
 ],
 "metadata": {
  "colab": {
   "provenance": [],
   "toc_visible": true
  },
  "kernelspec": {
   "display_name": "py39",
   "language": "python",
   "name": "python3"
  },
  "language_info": {
   "codemirror_mode": {
    "name": "ipython",
    "version": 3
   },
   "file_extension": ".py",
   "mimetype": "text/x-python",
   "name": "python",
   "nbconvert_exporter": "python",
   "pygments_lexer": "ipython3",
   "version": "3.9.18"
  }
 },
 "nbformat": 4,
 "nbformat_minor": 0
}
